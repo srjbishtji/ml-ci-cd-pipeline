# Generate iris.csv
import pandas as pd
from sklearn.datasets import load_iris

# Load Iris dataset
iris = load_iris()
df = pd.DataFrame(data=iris.data, columns=iris.feature_names)
df['species'] = iris.target

# Save to CSV
df.to_csv(r'C:\ml-ci-cd-pipeline\data\iris.csv', index=False)
# Generate iris.csv
import pandas as pd
from sklearn.datasets import load_iris

# Load Iris dataset
iris = load_iris()
df = pd.DataFrame(data=iris.data, columns=iris.feature_names)
df['species'] = iris.target

# Save to CSV
df.to_csv(r'C:\ml-ci-cd-pipeline\data\iris.csv', index=False)
